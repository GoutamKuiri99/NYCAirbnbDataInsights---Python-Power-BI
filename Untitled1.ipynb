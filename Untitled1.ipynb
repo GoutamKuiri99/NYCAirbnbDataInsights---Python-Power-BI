{
 "cells": [
  {
   "cell_type": "code",
   "execution_count": 1,
   "id": "577e375b-6dc3-42e7-b3a5-233cb1a7da06",
   "metadata": {},
   "outputs": [
    {
     "name": "stderr",
     "output_type": "stream",
     "text": [
      "C:\\Users\\gkuir\\AppData\\Local\\Temp\\ipykernel_8252\\2591099614.py:3: DeprecationWarning: `import pandas_profiling` is going to be deprecated by April 1st. Please use `import ydata_profiling` instead.\n",
      "  from pandas_profiling import ProfileReport\n"
     ]
    }
   ],
   "source": [
    "import pandas as pd \n",
    "import numpy as np\n",
    "from pandas_profiling import ProfileReport"
   ]
  },
  {
   "cell_type": "code",
   "execution_count": 2,
   "id": "13dfbf47-201b-4ace-9b3c-a35711dc7ecf",
   "metadata": {},
   "outputs": [
    {
     "name": "stderr",
     "output_type": "stream",
     "text": [
      "C:\\Users\\gkuir\\AppData\\Local\\Temp\\ipykernel_8252\\181192011.py:1: DtypeWarning: Columns (25) have mixed types. Specify dtype option on import or set low_memory=False.\n",
      "  df=pd.read_csv('Airbnb_Open_Data.csv')\n"
     ]
    }
   ],
   "source": [
    "df=pd.read_csv('Airbnb_Open_Data.csv')"
   ]
  },
  {
   "cell_type": "code",
   "execution_count": null,
   "id": "a9469225-7215-413b-a76b-9c4220c45134",
   "metadata": {},
   "outputs": [],
   "source": []
  },
  {
   "cell_type": "code",
   "execution_count": 4,
   "id": "09885533-38e2-44be-b75f-a633ef9d098d",
   "metadata": {},
   "outputs": [
    {
     "data": {
      "text/plain": [
       "id                                     0\n",
       "NAME                                 250\n",
       "host id                                0\n",
       "host_identity_verified               289\n",
       "host name                            406\n",
       "neighbourhood group                   29\n",
       "neighbourhood                         16\n",
       "lat                                    8\n",
       "long                                   8\n",
       "country                              532\n",
       "country code                         131\n",
       "instant_bookable                     105\n",
       "cancellation_policy                   76\n",
       "room type                              0\n",
       "Construction year                    214\n",
       "price                                247\n",
       "service fee                          273\n",
       "minimum nights                       409\n",
       "number of reviews                    183\n",
       "last review                        15893\n",
       "reviews per month                  15879\n",
       "review rate number                   326\n",
       "calculated host listings count       319\n",
       "availability 365                     448\n",
       "house_rules                        52131\n",
       "license                           102597\n",
       "dtype: int64"
      ]
     },
     "execution_count": 4,
     "metadata": {},
     "output_type": "execute_result"
    }
   ],
   "source": [
    "df.isnull().sum()"
   ]
  },
  {
   "cell_type": "code",
   "execution_count": 5,
   "id": "f768fe27-bf94-4c2f-8e09-4a51caffbc39",
   "metadata": {},
   "outputs": [
    {
     "ename": "KeyError",
     "evalue": "['name', 'host_name']",
     "output_type": "error",
     "traceback": [
      "\u001b[1;31m---------------------------------------------------------------------------\u001b[0m",
      "\u001b[1;31mKeyError\u001b[0m                                  Traceback (most recent call last)",
      "\u001b[1;32m~\\AppData\\Local\\Temp\\ipykernel_8252\\2893927698.py\u001b[0m in \u001b[0;36m?\u001b[1;34m()\u001b[0m\n\u001b[0;32m      1\u001b[0m \u001b[1;31m# Drop columns with more than a certain threshold of missing values\u001b[0m\u001b[1;33m\u001b[0m\u001b[1;33m\u001b[0m\u001b[0m\n\u001b[0;32m      2\u001b[0m \u001b[0mdf\u001b[0m \u001b[1;33m=\u001b[0m \u001b[0mdf\u001b[0m\u001b[1;33m.\u001b[0m\u001b[0mdrop\u001b[0m\u001b[1;33m(\u001b[0m\u001b[0mcolumns\u001b[0m\u001b[1;33m=\u001b[0m\u001b[1;33m[\u001b[0m\u001b[1;34m'license'\u001b[0m\u001b[1;33m,\u001b[0m \u001b[1;34m'house_rules'\u001b[0m\u001b[1;33m]\u001b[0m\u001b[1;33m)\u001b[0m\u001b[1;33m\u001b[0m\u001b[1;33m\u001b[0m\u001b[0m\n\u001b[0;32m      3\u001b[0m \u001b[1;33m\u001b[0m\u001b[0m\n\u001b[0;32m      4\u001b[0m \u001b[1;31m# Drop rows where crucial columns have missing values\u001b[0m\u001b[1;33m\u001b[0m\u001b[1;33m\u001b[0m\u001b[0m\n\u001b[1;32m----> 5\u001b[1;33m \u001b[0mdf\u001b[0m \u001b[1;33m=\u001b[0m \u001b[0mdf\u001b[0m\u001b[1;33m.\u001b[0m\u001b[0mdropna\u001b[0m\u001b[1;33m(\u001b[0m\u001b[0msubset\u001b[0m\u001b[1;33m=\u001b[0m\u001b[1;33m[\u001b[0m\u001b[1;34m'name'\u001b[0m\u001b[1;33m,\u001b[0m \u001b[1;34m'host_name'\u001b[0m\u001b[1;33m,\u001b[0m \u001b[1;34m'country'\u001b[0m\u001b[1;33m]\u001b[0m\u001b[1;33m)\u001b[0m\u001b[1;33m\u001b[0m\u001b[1;33m\u001b[0m\u001b[0m\n\u001b[0m\u001b[0;32m      6\u001b[0m \u001b[1;33m\u001b[0m\u001b[0m\n\u001b[0;32m      7\u001b[0m \u001b[1;31m# Function to remove dollar sign and convert to float\u001b[0m\u001b[1;33m\u001b[0m\u001b[1;33m\u001b[0m\u001b[0m\n\u001b[0;32m      8\u001b[0m \u001b[1;32mdef\u001b[0m \u001b[0mremove_dollar_sign\u001b[0m\u001b[1;33m(\u001b[0m\u001b[0mvalue\u001b[0m\u001b[1;33m)\u001b[0m\u001b[1;33m:\u001b[0m\u001b[1;33m\u001b[0m\u001b[1;33m\u001b[0m\u001b[0m\n",
      "\u001b[1;32m~\\AppData\\Local\\Programs\\Python\\Python312\\Lib\\site-packages\\pandas\\core\\frame.py\u001b[0m in \u001b[0;36m?\u001b[1;34m(self, axis, how, thresh, subset, inplace, ignore_index)\u001b[0m\n\u001b[0;32m   6666\u001b[0m             \u001b[0max\u001b[0m \u001b[1;33m=\u001b[0m \u001b[0mself\u001b[0m\u001b[1;33m.\u001b[0m\u001b[0m_get_axis\u001b[0m\u001b[1;33m(\u001b[0m\u001b[0magg_axis\u001b[0m\u001b[1;33m)\u001b[0m\u001b[1;33m\u001b[0m\u001b[1;33m\u001b[0m\u001b[0m\n\u001b[0;32m   6667\u001b[0m             \u001b[0mindices\u001b[0m \u001b[1;33m=\u001b[0m \u001b[0max\u001b[0m\u001b[1;33m.\u001b[0m\u001b[0mget_indexer_for\u001b[0m\u001b[1;33m(\u001b[0m\u001b[0msubset\u001b[0m\u001b[1;33m)\u001b[0m\u001b[1;33m\u001b[0m\u001b[1;33m\u001b[0m\u001b[0m\n\u001b[0;32m   6668\u001b[0m             \u001b[0mcheck\u001b[0m \u001b[1;33m=\u001b[0m \u001b[0mindices\u001b[0m \u001b[1;33m==\u001b[0m \u001b[1;33m-\u001b[0m\u001b[1;36m1\u001b[0m\u001b[1;33m\u001b[0m\u001b[1;33m\u001b[0m\u001b[0m\n\u001b[0;32m   6669\u001b[0m             \u001b[1;32mif\u001b[0m \u001b[0mcheck\u001b[0m\u001b[1;33m.\u001b[0m\u001b[0many\u001b[0m\u001b[1;33m(\u001b[0m\u001b[1;33m)\u001b[0m\u001b[1;33m:\u001b[0m\u001b[1;33m\u001b[0m\u001b[1;33m\u001b[0m\u001b[0m\n\u001b[1;32m-> 6670\u001b[1;33m                 \u001b[1;32mraise\u001b[0m \u001b[0mKeyError\u001b[0m\u001b[1;33m(\u001b[0m\u001b[0mnp\u001b[0m\u001b[1;33m.\u001b[0m\u001b[0marray\u001b[0m\u001b[1;33m(\u001b[0m\u001b[0msubset\u001b[0m\u001b[1;33m)\u001b[0m\u001b[1;33m[\u001b[0m\u001b[0mcheck\u001b[0m\u001b[1;33m]\u001b[0m\u001b[1;33m.\u001b[0m\u001b[0mtolist\u001b[0m\u001b[1;33m(\u001b[0m\u001b[1;33m)\u001b[0m\u001b[1;33m)\u001b[0m\u001b[1;33m\u001b[0m\u001b[1;33m\u001b[0m\u001b[0m\n\u001b[0m\u001b[0;32m   6671\u001b[0m             \u001b[0magg_obj\u001b[0m \u001b[1;33m=\u001b[0m \u001b[0mself\u001b[0m\u001b[1;33m.\u001b[0m\u001b[0mtake\u001b[0m\u001b[1;33m(\u001b[0m\u001b[0mindices\u001b[0m\u001b[1;33m,\u001b[0m \u001b[0maxis\u001b[0m\u001b[1;33m=\u001b[0m\u001b[0magg_axis\u001b[0m\u001b[1;33m)\u001b[0m\u001b[1;33m\u001b[0m\u001b[1;33m\u001b[0m\u001b[0m\n\u001b[0;32m   6672\u001b[0m \u001b[1;33m\u001b[0m\u001b[0m\n\u001b[0;32m   6673\u001b[0m         \u001b[1;32mif\u001b[0m \u001b[0mthresh\u001b[0m \u001b[1;32mis\u001b[0m \u001b[1;32mnot\u001b[0m \u001b[0mlib\u001b[0m\u001b[1;33m.\u001b[0m\u001b[0mno_default\u001b[0m\u001b[1;33m:\u001b[0m\u001b[1;33m\u001b[0m\u001b[1;33m\u001b[0m\u001b[0m\n",
      "\u001b[1;31mKeyError\u001b[0m: ['name', 'host_name']"
     ]
    }
   ],
   "source": [
    "# Drop columns with more than a certain threshold of missing values\n",
    "df = df.drop(columns=['license', 'house_rules'])\n",
    "\n",
    "# Drop rows where crucial columns have missing values\n",
    "df = df.dropna(subset=['name', 'host_name', 'country'])\n",
    "\n",
    "# Function to remove dollar sign and convert to float\n",
    "def remove_dollar_sign(value):\n",
    "    if pd.isna(value):\n",
    "        return np.nan\n",
    "    else:\n",
    "        return float(value.replace(\"$\",\"\").replace(\",\",\"\").replace(\" \",\"\"))\n",
    "\n",
    "# Apply the function to 'price' and 'service_fee'\n",
    "df['price'] = df['price'].apply(remove_dollar_sign)\n",
    "df['service_fee'] = df['service_fee'].apply(remove_dollar_sign)\n",
    "\n",
    "# Fill missing values for categorical columns with the mode (most frequent value)\n",
    "df['host_identity_verified'] = df['host_identity_verified'].fillna(df['host_identity_verified'].mode()[0])\n",
    "df['cancellation_policy'] = df['cancellation_policy'].fillna(df['cancellation_policy'].mode()[0])\n",
    "\n",
    "# Fill missing values for numerical columns with median or mean\n",
    "df['price'] = df['price'].fillna(df['price'].median())\n",
    "df['reviews_per_month'] = df['reviews_per_month'].fillna(df['reviews_per_month'].mean())\n",
    "df['service_fee'] = df['service_fee'].fillna(df['service_fee'].median())\n",
    "\n",
    "# Fill numerical missing values with the median\n",
    "df['lat'] = df['lat'].fillna(df['lat'].median())\n",
    "df['long'] = df['long'].fillna(df['long'].median())\n",
    "df['number_of_reviews'] = df['number_of_reviews'].fillna(df['number_of_reviews'].median())\n",
    "\n",
    "# Fill categorical missing values with the mode (most frequent value)\n",
    "df['neighbourhood_group'] = df['neighbourhood_group'].fillna(df['neighbourhood_group'].mode()[0])\n",
    "df['country_code'] = df['country_code'].fillna(df['country_code'].mode()[0])\n",
    "df['instant_bookable'] = df['instant_bookable'].fillna(df['instant_bookable'].mode()[0])\n",
    "df['neighbourhood'] = df['neighbourhood'].fillna(df['neighbourhood'].mode()[0])\n",
    "\n",
    "# Drop rows where 'construction_year' is missing and fill missing values with median\n",
    "df = df.dropna(subset=['construction_year'])\n",
    "df['construction_year'] = df['construction_year'].fillna(df['construction_year'].median())\n",
    "\n",
    "# Fill missing values in 'minimum_nights' with the median\n",
    "df['minimum_nights'] = df['minimum_nights'].fillna(df['minimum_nights'].median())\n",
    "\n",
    "# Drop rows with missing values in specific columns\n",
    "df = df.dropna(subset=['review_rate_number', 'calculated_host_listings_count', 'availability_365', 'last_review'])\n",
    "\n",
    "# Fill missing values in 'review_rate_number' with the median\n",
    "df['review_rate_number'] = df['review_rate_number'].fillna(df['review_rate_number'].median())\n",
    "\n",
    "# Note: If 'last_review' is a date, you may need to handle it appropriately\n",
    "# If 'last_review' is a date column and you want to drop rows with missing dates:\n",
    "# df = df.dropna(subset=['last_review'])"
   ]
  },
  {
   "cell_type": "code",
   "execution_count": null,
   "id": "1835ceb2-4963-4a10-bbd0-4d02b4841ff8",
   "metadata": {},
   "outputs": [],
   "source": []
  }
 ],
 "metadata": {
  "kernelspec": {
   "display_name": "Python 3 (ipykernel)",
   "language": "python",
   "name": "python3"
  },
  "language_info": {
   "codemirror_mode": {
    "name": "ipython",
    "version": 3
   },
   "file_extension": ".py",
   "mimetype": "text/x-python",
   "name": "python",
   "nbconvert_exporter": "python",
   "pygments_lexer": "ipython3",
   "version": "3.12.4"
  }
 },
 "nbformat": 4,
 "nbformat_minor": 5
}
